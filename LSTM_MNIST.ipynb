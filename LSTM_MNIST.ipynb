{
 "cells": [
  {
   "cell_type": "code",
   "execution_count": 1,
   "id": "3a267356-4503-4aed-83e6-3f03634e1404",
   "metadata": {},
   "outputs": [],
   "source": [
    "import torch\n",
    "from torch import nn\n",
    "from torch.utils.data import DataLoader,Dataset\n",
    "import torchvision\n",
    "from torchvision.transforms import ToTensor\n",
    "import torchvision.datasets as datasets\n",
    "import torchvision.transforms as transforms\n",
    "from torch.utils.tensorboard import SummaryWriter\n",
    "from torchvision import datasets\n",
    "import numpy as np"
   ]
  },
  {
   "cell_type": "code",
   "execution_count": 2,
   "id": "ac344210-03fa-4bd6-bfbf-18db712ba5b4",
   "metadata": {},
   "outputs": [
    {
     "data": {
      "text/plain": [
       "device(type='cuda')"
      ]
     },
     "execution_count": 2,
     "metadata": {},
     "output_type": "execute_result"
    }
   ],
   "source": [
    "device=torch.device('cuda' if torch.cuda.is_available() else 'cpu')\n",
    "device"
   ]
  },
  {
   "cell_type": "code",
   "execution_count": 3,
   "id": "b94e79a8-9828-4713-8daa-897cd9d7e100",
   "metadata": {},
   "outputs": [],
   "source": [
    "# class RNN (nn.Module):\n",
    "#     def __init__(self,input_size:int):\n",
    "#         super(RNN,self).__init__()\n",
    "#         self.rnn=nn.RNN(input_size,hidden_size=256,num_layers=1,batch_first=True)    \n",
    "\n",
    "\n",
    "#     def forward(self,x):\n",
    "#         a0=torch.zeros(1,x.size(0),256).to(device)\n",
    "#         out,n=self.rnn(x,a0)\n",
    "#         # out=out.reshape(out.shape[0],-1)\n",
    "#         return out,n\n",
    "        \n",
    "        "
   ]
  },
  {
   "cell_type": "code",
   "execution_count": 4,
   "id": "7e99c6ba-5e57-4b81-9263-2247460fe62d",
   "metadata": {},
   "outputs": [],
   "source": [
    "# model=RNN(28).to(device)\n",
    "# x=torch.randn(64,28,28).to(device)\n",
    "# x.size(0)\n",
    "# model(x)[0].shape"
   ]
  },
  {
   "cell_type": "code",
   "execution_count": 5,
   "id": "e51bb706-1fa0-4355-b6e5-98db82ec91c6",
   "metadata": {},
   "outputs": [],
   "source": [
    "# model(x)[1].shape"
   ]
  },
  {
   "cell_type": "code",
   "execution_count": 6,
   "id": "7976ccf0-6e22-4219-8223-576a21afbbc3",
   "metadata": {},
   "outputs": [],
   "source": [
    "class LSTM (nn.Module):\n",
    "    def __init__(self,input_size:int,num_classes:int,depth:int):\n",
    "        super(LSTM,self).__init__()\n",
    "        self.lstm=nn.LSTM(input_size,hidden_size=256,num_layers=depth,batch_first=True)\n",
    "        self.fc=nn.Linear(in_features=256*28,out_features=num_classes)\n",
    "\n",
    "\n",
    "    def forward(self,x):\n",
    "        a0=torch.zeros(depth,x.size(0),256).to(device)\n",
    "        c0=torch.zeros(depth,x.size(0),256).to(device)\n",
    "        out,_=self.lstm(x,(a0,c0))\n",
    "        out=out.reshape(out.shape[0],-1)\n",
    "        out=self.fc(out)\n",
    "        return out\n",
    "        \n",
    "        "
   ]
  },
  {
   "cell_type": "code",
   "execution_count": 7,
   "id": "e6926986-fcf1-4969-8b51-ceb3be10ef66",
   "metadata": {},
   "outputs": [],
   "source": [
    "# model=RNN(28,10,2).to(device)\n",
    "# x=torch.randn(64,28,28).to(device)\n",
    "# model(x)[0].shape"
   ]
  },
  {
   "cell_type": "code",
   "execution_count": 8,
   "id": "cb24f508-63ad-4099-9785-2d6407d25cf8",
   "metadata": {},
   "outputs": [],
   "source": [
    "input_size=28\n",
    "num_classes=10\n",
    "depth=2\n",
    "batch_size=64\n",
    "epochs=2\n",
    "lr=0.0001\n"
   ]
  },
  {
   "cell_type": "code",
   "execution_count": 9,
   "id": "7d2296cb-7b55-48c4-8d86-3c5818b6ce38",
   "metadata": {},
   "outputs": [],
   "source": [
    "train_dataset=datasets.MNIST(root='data',train=True,transform=transforms.ToTensor(),download=True)\n",
    "\n",
    "test_dataset=datasets.MNIST(root='data',train=False,transform=transforms.ToTensor(),download=True)\n",
    "\n",
    "train_data_loader=DataLoader(dataset=train_dataset,batch_size=batch_size,shuffle=True)\n",
    "\n",
    "test_data_loader=DataLoader(dataset=test_dataset,batch_size=batch_size,shuffle=True)\n",
    "\n"
   ]
  },
  {
   "cell_type": "code",
   "execution_count": 10,
   "id": "89fe6b70-c01e-4145-8857-3e5396907a94",
   "metadata": {},
   "outputs": [],
   "source": [
    "model=LSTM(input_size,num_classes,depth).to(device)"
   ]
  },
  {
   "cell_type": "code",
   "execution_count": 11,
   "id": "0241f81a-92f3-42fc-89dd-c8e909170c79",
   "metadata": {},
   "outputs": [
    {
     "data": {
      "text/plain": [
       "==========================================================================================\n",
       "Layer (type:depth-idx)                   Output Shape              Param #\n",
       "==========================================================================================\n",
       "LSTM                                     [1, 10]                   --\n",
       "├─LSTM: 1-1                              [1, 28, 256]              819,200\n",
       "├─Linear: 1-2                            [1, 10]                   71,690\n",
       "==========================================================================================\n",
       "Total params: 890,890\n",
       "Trainable params: 890,890\n",
       "Non-trainable params: 0\n",
       "Total mult-adds (M): 23.01\n",
       "==========================================================================================\n",
       "Input size (MB): 0.00\n",
       "Forward/backward pass size (MB): 0.06\n",
       "Params size (MB): 3.56\n",
       "Estimated Total Size (MB): 3.62\n",
       "=========================================================================================="
      ]
     },
     "execution_count": 11,
     "metadata": {},
     "output_type": "execute_result"
    }
   ],
   "source": [
    "from torchinfo import summary\n",
    "\n",
    "summary(model,input_size=[1,28,28])"
   ]
  },
  {
   "cell_type": "code",
   "execution_count": 12,
   "id": "a832ae89-708a-4cc0-ab6e-db34889dbf7f",
   "metadata": {},
   "outputs": [],
   "source": [
    "loss_fn=nn.CrossEntropyLoss()\n",
    "optimizer=torch.optim.Adam(params=model.parameters(),lr=lr)"
   ]
  },
  {
   "cell_type": "code",
   "execution_count": 13,
   "id": "a9a4445b-85de-469a-9181-ccf052c3952e",
   "metadata": {},
   "outputs": [],
   "source": [
    "def acc_fn(y_true, y_pred):\n",
    "    correct = torch.eq(y_true, y_pred).sum().item() # torch.eq() calculates where two tensors are equal\n",
    "    acc = (correct / len(y_pred)) * 100\n",
    "    return acc\n",
    "     "
   ]
  },
  {
   "cell_type": "code",
   "execution_count": 14,
   "id": "aaf8178a-dca5-4388-83e1-34b450054578",
   "metadata": {},
   "outputs": [
    {
     "data": {
      "application/vnd.jupyter.widget-view+json": {
       "model_id": "ae1d1ee6adeb4bbf97a37b1a301ccf7d",
       "version_major": 2,
       "version_minor": 0
      },
      "text/plain": [
       "  0%|          | 0/2 [00:00<?, ?it/s]"
      ]
     },
     "metadata": {},
     "output_type": "display_data"
    },
    {
     "name": "stdout",
     "output_type": "stream",
     "text": [
      "\n",
      " train loss:0.5635 | train acc:82.1662 | test loss:0.2076 | test acc:93.4912 |baseline_acc:9.9025 \n",
      "\n",
      " train loss:0.1749 | train acc:94.6722 | test loss:0.1391 | test acc:95.5514 |baseline_acc:10.2209 \n"
     ]
    }
   ],
   "source": [
    "from tqdm.auto import tqdm\n",
    "train_loss=0\n",
    "train_acc=0\n",
    "\n",
    "for epoch in tqdm(range(epochs)):\n",
    "  for batch_idx,(x,y) in enumerate(train_data_loader):\n",
    "      x=x.to(device).squeeze(1)\n",
    "      y=y.to(device)\n",
    "      model.train()\n",
    "      scores=model(x).to(device)\n",
    "      loss=loss_fn(scores,y)\n",
    "      train_loss+=loss\n",
    "      train_acc+=acc_fn(y,scores.argmax(dim=1))\n",
    "\n",
    "      model.zero_grad()\n",
    "      loss.backward()\n",
    "      optimizer.step()\n",
    "\n",
    "  train_loss/=len(train_data_loader)\n",
    "  train_acc/=len(train_data_loader)\n",
    "\n",
    "      \n",
    "  test_loss,test_acc,baseline_acc=0,0,0\n",
    "  model.eval()\n",
    "  with torch.inference_mode():\n",
    "    for x_test,y_test in test_data_loader:\n",
    "      x_test=x_test.to(device).squeeze(1)\n",
    "      y_test=y_test.to(device)\n",
    "      test_pred=model(x_test)\n",
    "\n",
    "      test_loss+=loss_fn(test_pred,y_test)\n",
    "      test_acc+=acc_fn(y_true=y_test,y_pred=test_pred.argmax(dim=1))\n",
    "      baseline_acc+=acc_fn(y_test,torch.randint_like(y_test,high=9))\n",
    "\n",
    "    test_loss/=len(test_data_loader)\n",
    "    test_acc/=len(test_data_loader)\n",
    "    baseline_acc/=len(test_data_loader)\n",
    "  print(f\"\\n train loss:{train_loss:.4f} | train acc:{train_acc:.4f} | test loss:{test_loss:.4f} | test acc:{test_acc:.4f} |baseline_acc:{baseline_acc:.4f} \")\n",
    "   \n",
    "\n",
    "      "
   ]
  },
  {
   "cell_type": "code",
   "execution_count": null,
   "id": "b0e6a08e-5b22-45f4-b9ed-5f0265663efc",
   "metadata": {},
   "outputs": [],
   "source": []
  }
 ],
 "metadata": {
  "kernelspec": {
   "display_name": "Python 3 (ipykernel)",
   "language": "python",
   "name": "python3"
  },
  "language_info": {
   "codemirror_mode": {
    "name": "ipython",
    "version": 3
   },
   "file_extension": ".py",
   "mimetype": "text/x-python",
   "name": "python",
   "nbconvert_exporter": "python",
   "pygments_lexer": "ipython3",
   "version": "3.8.19"
  }
 },
 "nbformat": 4,
 "nbformat_minor": 5
}
